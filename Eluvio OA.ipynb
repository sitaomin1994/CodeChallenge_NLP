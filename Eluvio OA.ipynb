{
 "cells": [
  {
   "cell_type": "markdown",
   "id": "427f833c",
   "metadata": {},
   "source": [
    "## Eluvio Data Challenge\n",
    "\n",
    "@sitaomin"
   ]
  },
  {
   "cell_type": "code",
   "execution_count": 1,
   "id": "c33a9bb2",
   "metadata": {},
   "outputs": [],
   "source": [
    "import pandas as pd\n",
    "from datetime import datetime\n",
    "import matplotlib.pyplot as plt\n",
    "import seaborn as sns\n",
    "import numpy as np\n",
    "import scipy.stats as spstats\n",
    "from sklearn.preprocessing import LabelEncoder,OneHotEncoder"
   ]
  },
  {
   "cell_type": "markdown",
   "id": "a704a1e2",
   "metadata": {},
   "source": [
    "### Data Exploration"
   ]
  },
  {
   "cell_type": "code",
   "execution_count": 2,
   "id": "d4ee2a13",
   "metadata": {},
   "outputs": [
    {
     "data": {
      "text/html": [
       "<div>\n",
       "<style scoped>\n",
       "    .dataframe tbody tr th:only-of-type {\n",
       "        vertical-align: middle;\n",
       "    }\n",
       "\n",
       "    .dataframe tbody tr th {\n",
       "        vertical-align: top;\n",
       "    }\n",
       "\n",
       "    .dataframe thead th {\n",
       "        text-align: right;\n",
       "    }\n",
       "</style>\n",
       "<table border=\"1\" class=\"dataframe\">\n",
       "  <thead>\n",
       "    <tr style=\"text-align: right;\">\n",
       "      <th></th>\n",
       "      <th>time_created</th>\n",
       "      <th>date_created</th>\n",
       "      <th>up_votes</th>\n",
       "      <th>down_votes</th>\n",
       "      <th>title</th>\n",
       "      <th>over_18</th>\n",
       "      <th>author</th>\n",
       "      <th>category</th>\n",
       "    </tr>\n",
       "  </thead>\n",
       "  <tbody>\n",
       "    <tr>\n",
       "      <th>0</th>\n",
       "      <td>1201232046</td>\n",
       "      <td>1/25/2008</td>\n",
       "      <td>3</td>\n",
       "      <td>0</td>\n",
       "      <td>Scores killed in Pakistan clashes</td>\n",
       "      <td>False</td>\n",
       "      <td>polar</td>\n",
       "      <td>worldnews</td>\n",
       "    </tr>\n",
       "    <tr>\n",
       "      <th>1</th>\n",
       "      <td>1201232075</td>\n",
       "      <td>1/25/2008</td>\n",
       "      <td>2</td>\n",
       "      <td>0</td>\n",
       "      <td>Japan resumes refuelling mission</td>\n",
       "      <td>False</td>\n",
       "      <td>polar</td>\n",
       "      <td>worldnews</td>\n",
       "    </tr>\n",
       "    <tr>\n",
       "      <th>2</th>\n",
       "      <td>1201232523</td>\n",
       "      <td>1/25/2008</td>\n",
       "      <td>3</td>\n",
       "      <td>0</td>\n",
       "      <td>US presses Egypt on Gaza border</td>\n",
       "      <td>False</td>\n",
       "      <td>polar</td>\n",
       "      <td>worldnews</td>\n",
       "    </tr>\n",
       "    <tr>\n",
       "      <th>3</th>\n",
       "      <td>1201233290</td>\n",
       "      <td>1/25/2008</td>\n",
       "      <td>1</td>\n",
       "      <td>0</td>\n",
       "      <td>Jump-start economy: Give health care to all</td>\n",
       "      <td>False</td>\n",
       "      <td>fadi420</td>\n",
       "      <td>worldnews</td>\n",
       "    </tr>\n",
       "    <tr>\n",
       "      <th>4</th>\n",
       "      <td>1201274720</td>\n",
       "      <td>1/25/2008</td>\n",
       "      <td>4</td>\n",
       "      <td>0</td>\n",
       "      <td>Council of Europe bashes EU&amp;UN terror blacklist</td>\n",
       "      <td>False</td>\n",
       "      <td>mhermans</td>\n",
       "      <td>worldnews</td>\n",
       "    </tr>\n",
       "  </tbody>\n",
       "</table>\n",
       "</div>"
      ],
      "text/plain": [
       "   time_created date_created  up_votes  down_votes  \\\n",
       "0    1201232046    1/25/2008         3           0   \n",
       "1    1201232075    1/25/2008         2           0   \n",
       "2    1201232523    1/25/2008         3           0   \n",
       "3    1201233290    1/25/2008         1           0   \n",
       "4    1201274720    1/25/2008         4           0   \n",
       "\n",
       "                                             title  over_18    author  \\\n",
       "0                Scores killed in Pakistan clashes    False     polar   \n",
       "1                 Japan resumes refuelling mission    False     polar   \n",
       "2                  US presses Egypt on Gaza border    False     polar   \n",
       "3     Jump-start economy: Give health care to all     False   fadi420   \n",
       "4  Council of Europe bashes EU&UN terror blacklist    False  mhermans   \n",
       "\n",
       "    category  \n",
       "0  worldnews  \n",
       "1  worldnews  \n",
       "2  worldnews  \n",
       "3  worldnews  \n",
       "4  worldnews  "
      ]
     },
     "execution_count": 2,
     "metadata": {},
     "output_type": "execute_result"
    }
   ],
   "source": [
    "data = pd.read_csv('./Data/Eluvio_DS_Challenge.csv')\n",
    "data.head()"
   ]
  },
  {
   "cell_type": "markdown",
   "id": "6135f322",
   "metadata": {},
   "source": [
    "#### Validation\n",
    "Drop 'category' 'down_votes' and 'time_created' since they are all equal for all samples"
   ]
  },
  {
   "cell_type": "code",
   "execution_count": 3,
   "id": "69b207c8",
   "metadata": {},
   "outputs": [
    {
     "name": "stdout",
     "output_type": "stream",
     "text": [
      "#unique: (time_created) - 508329 \n",
      "#unique: (date_created) - 3223 \n",
      "#unique: (up_votes) - 5782 \n",
      "#unique: (down_votes) - 1 \n",
      "#unique: (title) - 500713 \n",
      "#unique: (over_18) - 2 \n",
      "#unique: (author) - 85807 \n",
      "#unique: (category) - 1 \n"
     ]
    }
   ],
   "source": [
    "for col in data.columns:\n",
    "    print(\"#unique: ({}) - {} \".format(col, data[col].nunique()))\n",
    "    \n",
    "data = data.drop(['down_votes', 'category'], axis = 1)"
   ]
  },
  {
   "cell_type": "markdown",
   "id": "5905a79a",
   "metadata": {},
   "source": [
    "#### Exploring time pattern of up_votes and #posts"
   ]
  },
  {
   "cell_type": "code",
   "execution_count": 5,
   "id": "8dcd15cd",
   "metadata": {},
   "outputs": [
    {
     "data": {
      "text/plain": [
       "<AxesSubplot:xlabel='date_created'>"
      ]
     },
     "execution_count": 5,
     "metadata": {},
     "output_type": "execute_result"
    },
    {
     "data": {
      "image/png": "[encoded data removed]",
      "text/plain": [
       "<Figure size 432x288 with 1 Axes>"
      ]
     },
     "metadata": {
      "needs_background": "light"
     },
     "output_type": "display_data"
    }
   ],
   "source": [
    "# date\n",
    "data['date_created'] = pd.to_datetime(data['date_created'])\n",
    "data.groupby('date_created').size().plot(linewidth=0.5)"
   ]
  },
  {
   "cell_type": "code",
   "execution_count": 6,
   "id": "e6d186fc",
   "metadata": {},
   "outputs": [
    {
     "data": {
      "text/plain": [
       "<AxesSubplot:xlabel='date_created'>"
      ]
     },
     "execution_count": 6,
     "metadata": {},
     "output_type": "execute_result"
    },
    {
     "data": {
      "image/png": "[encoded data removed]",
      "text/plain": [
       "<Figure size 432x288 with 1 Axes>"
      ]
     },
     "metadata": {
      "needs_background": "light"
     },
     "output_type": "display_data"
    }
   ],
   "source": [
    "data.groupby('date_created').agg(mean_votes=pd.NamedAgg(column=\"up_votes\", aggfunc=\"mean\")).plot(linewidth=0.5)"
   ]
  },
  {
   "cell_type": "markdown",
   "id": "b61e7499",
   "metadata": {},
   "source": [
    "Up votes and #post increasing with as time goes off"
   ]
  },
  {
   "cell_type": "markdown",
   "id": "96e0632b",
   "metadata": {},
   "source": [
    "#### Top posted authors and top voted authors"
   ]
  },
  {
   "cell_type": "code",
   "execution_count": 8,
   "id": "ef2d68d0",
   "metadata": {},
   "outputs": [
    {
     "name": "stdout",
     "output_type": "stream",
     "text": [
      "navysealassulter\n",
      "seapiglet\n",
      "DawgsOnTopUGA\n",
      "Flamo_the_Idiot_Boy\n",
      "haunted_cheesecake\n",
      "bendertheoffender22\n",
      "crippledrejex\n",
      "FlandersNed\n",
      "lesseva96\n",
      "sverdrupian\n"
     ]
    }
   ],
   "source": [
    "# top author\n",
    "author_group = data.groupby('author')\n",
    "author_post_counts = author_group.size()\n",
    "#author_post_counts.describe()\n",
    "top_author = author_post_counts.sort_values(ascending = False).iloc[0:10].index\n",
    "\n",
    "# top voted author\n",
    "avg = author_group.agg(mean_votes_per_post=pd.NamedAgg(column=\"up_votes\", aggfunc=lambda x: x.mean()))\n",
    "top_voted_author = avg.sort_values(by = 'mean_votes_per_post', ascending = False).iloc[0:10].index\n",
    "\n",
    "for author in top_voted_author:\n",
    "    print(author)"
   ]
  },
  {
   "cell_type": "markdown",
   "id": "ddafe51e",
   "metadata": {},
   "source": [
    "### Prection Task： Predict numebr of upvotes of reddit post"
   ]
  },
  {
   "cell_type": "markdown",
   "id": "4e8ff0ba",
   "metadata": {},
   "source": [
    "- predict number of upvotes of reddit post based on structure features (time, author) and unstructure features (title)"
   ]
  },
  {
   "cell_type": "markdown",
   "id": "5882ef9e",
   "metadata": {},
   "source": [
    "#### Transformation of up votes\n",
    "- log transformation of upvotes\n",
    "- box-cox transformation of upvotes"
   ]
  },
  {
   "cell_type": "code",
   "execution_count": 9,
   "id": "b7aa2871",
   "metadata": {},
   "outputs": [
    {
     "data": {
      "text/plain": [
       "<AxesSubplot:>"
      ]
     },
     "execution_count": 9,
     "metadata": {},
     "output_type": "execute_result"
    },
    {
     "data": {
      "image/png": "[encoded data removed]",
      "text/plain": [
       "<Figure size 432x288 with 1 Axes>"
      ]
     },
     "metadata": {
      "needs_background": "light"
     },
     "output_type": "display_data"
    }
   ],
   "source": [
    "data['log_up_votes'] = np.log(data['up_votes'] + 1)\n",
    "data['log_up_votes'].hist()"
   ]
  },
  {
   "cell_type": "code",
   "execution_count": 10,
   "id": "4c17838f",
   "metadata": {},
   "outputs": [
    {
     "data": {
      "text/plain": [
       "<AxesSubplot:>"
      ]
     },
     "execution_count": 10,
     "metadata": {},
     "output_type": "execute_result"
    },
    {
     "data": {
      "image/png": "[encoded data removed]",
      "text/plain": [
       "<Figure size 432x288 with 1 Axes>"
      ]
     },
     "metadata": {
      "needs_background": "light"
     },
     "output_type": "display_data"
    }
   ],
   "source": [
    "data['bc_up_votes'], opt_lambda = spstats.boxcox(data['up_votes']+1)\n",
    "data['bc_up_votes'].hist()"
   ]
  },
  {
   "cell_type": "markdown",
   "id": "309d1a43",
   "metadata": {},
   "source": [
    "### Structure Feature Engineering\n",
    "\n",
    "In this section, we do feature engineering for structure features including post date, time, author, over_18"
   ]
  },
  {
   "cell_type": "markdown",
   "id": "71b2c00c",
   "metadata": {},
   "source": [
    "#### Time/Date\n",
    "\n",
    "For date and time, we extract year, month, quarter, day of week, day of months, week of year, day of year  "
   ]
  },
  {
   "cell_type": "code",
   "execution_count": 11,
   "id": "e6be0343",
   "metadata": {},
   "outputs": [
    {
     "data": {
      "image/png": "[encoded data removed]",
      "text/plain": [
       "<Figure size 432x288 with 1 Axes>"
      ]
     },
     "metadata": {
      "needs_background": "light"
     },
     "output_type": "display_data"
    }
   ],
   "source": [
    "# hour\n",
    "time_created = data['time_created'].apply(lambda x: datetime.utcfromtimestamp(x))\n",
    "data['hour'] = time_created.dt.hour\n",
    "data = data.drop('time_created', axis = 1)\n",
    "data['hour'].hist()\n",
    "\n",
    "# date\n",
    "data['date_created'] = pd.to_datetime(data['date_created'])"
   ]
  },
  {
   "cell_type": "code",
   "execution_count": 12,
   "id": "7c143e4e",
   "metadata": {},
   "outputs": [],
   "source": [
    "# year, month, day, dayofweek, dayofyear, week, quarter\n",
    "data['year'] = data['date_created'].dt.year\n",
    "data['month'] = data['date_created'].dt.month\n",
    "data['day'] = data['date_created'].dt.day\n",
    "data['weekday'] = data['date_created'].dt.weekday\n",
    "data['dayofyear'] = data['date_created'].dt.dayofyear\n",
    "data['week'] = data['date_created'].dt.isocalendar().week\n",
    "data['quarter'] = data['date_created'].dt.quarter"
   ]
  },
  {
   "cell_type": "code",
   "execution_count": 13,
   "id": "ccca4ca7",
   "metadata": {},
   "outputs": [],
   "source": [
    "# encoding - year label, quarter one-hot\n",
    "labelencoder = LabelEncoder()\n",
    "data['year_code'] = labelencoder.fit_transform(data['year'])\n",
    "data = pd.get_dummies(data, columns=[\"quarter\"], prefix=[\"quarter_\"] )"
   ]
  },
  {
   "cell_type": "markdown",
   "id": "a97dd7c3",
   "metadata": {},
   "source": [
    "#### Encode Author and over_18"
   ]
  },
  {
   "cell_type": "code",
   "execution_count": 14,
   "id": "02402d63",
   "metadata": {},
   "outputs": [],
   "source": [
    "data['over_18'] = labelencoder.fit_transform(data['over_18'])\n",
    "data['author_code'] = labelencoder.fit_transform(data['author'])"
   ]
  },
  {
   "cell_type": "markdown",
   "id": "a13556ce",
   "metadata": {},
   "source": [
    "#### Other Features"
   ]
  },
  {
   "cell_type": "code",
   "execution_count": 15,
   "id": "86d53594",
   "metadata": {},
   "outputs": [],
   "source": [
    "data['title_len'] = data.apply(lambda row: len(row['title'].split()),axis = 1);\n",
    "data['title_num_char'] = data.apply(lambda row: len(list(row['title'])), axis = 1)"
   ]
  },
  {
   "cell_type": "markdown",
   "id": "99d432e7",
   "metadata": {},
   "source": [
    "#### Structure Feature Summary\n",
    "\n",
    "- numerical\n",
    "    - Time: year, month, day, week, dayOfWeek, dayOfYear\n",
    "    - author id\n",
    "- categorical\n",
    "    - over_18\n",
    "    - quarter"
   ]
  },
  {
   "cell_type": "markdown",
   "id": "8383301b",
   "metadata": {},
   "source": [
    "### Title Feature Encoding  "
   ]
  },
  {
   "cell_type": "markdown",
   "id": "1164d8db",
   "metadata": {},
   "source": [
    "#### Preprocessing the title text\n",
    "- remove stopwords\n",
    "- remove puctuations and special characters\n",
    "- replace number information to a number sign\n",
    "- stemming or lemmatizing"
   ]
  },
  {
   "cell_type": "code",
   "execution_count": 16,
   "id": "a6e9efe6",
   "metadata": {},
   "outputs": [
    {
     "name": "stderr",
     "output_type": "stream",
     "text": [
      "[nltk_data] Downloading package stopwords to\n",
      "[nltk_data]     C:\\Users\\sitao\\AppData\\Roaming\\nltk_data...\n",
      "[nltk_data]   Package stopwords is already up-to-date!\n",
      "[nltk_data] Downloading package wordnet to\n",
      "[nltk_data]     C:\\Users\\sitao\\AppData\\Roaming\\nltk_data...\n",
      "[nltk_data]   Package wordnet is already up-to-date!\n"
     ]
    },
    {
     "data": {
      "text/plain": [
       "True"
      ]
     },
     "execution_count": 16,
     "metadata": {},
     "output_type": "execute_result"
    }
   ],
   "source": [
    "import nltk\n",
    "from nltk.corpus import stopwords\n",
    "from nltk.stem import SnowballStemmer\n",
    "from nltk.stem import WordNetLemmatizer\n",
    "import re\n",
    "nltk.download('stopwords')\n",
    "nltk.download('wordnet')"
   ]
  },
  {
   "cell_type": "code",
   "execution_count": 17,
   "id": "0a0f424e",
   "metadata": {},
   "outputs": [
    {
     "name": "stdout",
     "output_type": "stream",
     "text": [
      "Best Mail Forwards Ever!: Pakistan s denial of all the facts and proofs put in by India and USA regarding the Mumbai terror attacks.\n",
      "best mail forwards ever pakistan denial fact proof put india usa regarding mumbai terror attack\n",
      "Clean Finished!\n"
     ]
    }
   ],
   "source": [
    "STOPWORDS = set(stopwords.words('english'))\n",
    "stemmer = SnowballStemmer(\"english\")\n",
    "lemmatizer = WordNetLemmatizer()\n",
    "punctuation = re.compile(r'[.|,|)|(|?|!|\"|“|”|‘|’|\\/|;|$|%|\\*|\\+]')\n",
    "special_character_re = re.compile(r'[\\'|#|\\[|\\]|:|\\`|&|-]')\n",
    "retained = re.compile(pattern='[^a-zA-Z0-9]') # only contains english words\n",
    "\n",
    "def hasNumbers(inputString):\n",
    "    return any(char.isdigit() for char in inputString)\n",
    "                \n",
    "def text_clean(text):\n",
    "    # remove punctuation and special character\n",
    "    text = punctuation.sub('',text)\n",
    "    text = special_character_re.sub(' ',text)\n",
    "    text = ' '.join([retained.sub('', word) for word in text.split()])\n",
    "    \n",
    "    # remove stopwords\n",
    "    text = ' '.join([word for word in text.split() if word and word not in STOPWORDS]) # delete stopwords from tex\n",
    "    \n",
    "    # replace number with sigh [DIGITS]\n",
    "    text = ' '.join(['number' if hasNumbers(word) else word for word in text.split()])\n",
    "    \n",
    "    #lemmatization\n",
    "    text = ' '.join([lemmatizer.lemmatize(word) for word in text.split()])\n",
    "    \n",
    "    text = text.lower()\n",
    "    return text\n",
    "\n",
    "# for test\n",
    "sample = data['title'].values[23902]\n",
    "print(sample)\n",
    "sample_clean = text_clean(sample)\n",
    "print(sample_clean)\n",
    "\n",
    "# cleaning the title\n",
    "data['title_cleaned'] = data['title'].apply(lambda row:text_clean(row))\n",
    "print('Clean Finished!')"
   ]
  },
  {
   "cell_type": "markdown",
   "id": "99b35bdf",
   "metadata": {},
   "source": [
    "#### Data Sampling\n",
    "\n",
    "- due to limit computation power of my latop, I random sampling 50% of all data"
   ]
  },
  {
   "cell_type": "code",
   "execution_count": 18,
   "id": "816c2873",
   "metadata": {},
   "outputs": [
    {
     "name": "stdout",
     "output_type": "stream",
     "text": [
      "(254606, 23)\n"
     ]
    }
   ],
   "source": [
    "data = data[data['title_cleaned'] != '']\n",
    "data = data.sample(int(data.shape[0]*0.5), random_state = 21)\n",
    "data.index = range(data.shape[0])\n",
    "print(data.shape)"
   ]
  },
  {
   "cell_type": "code",
   "execution_count": 17,
   "id": "fde1f39e",
   "metadata": {},
   "outputs": [],
   "source": [
    "data.to_csv('./Data/data.csv', index = False)"
   ]
  },
  {
   "cell_type": "markdown",
   "id": "072f5a23",
   "metadata": {},
   "source": [
    "#### **Encoding title**\n",
    "\n",
    "In this section we consider following encoding for the title\n",
    " - tf-idf + PCA\n",
    " - pre-trained word2vec(google news 300)/fasttext\n",
    " - pre-trained bert\n",
    " - self-trained word2vec/fastext/doc2vec"
   ]
  },
  {
   "cell_type": "markdown",
   "id": "35e74b75",
   "metadata": {},
   "source": [
    "##### TF-IDF + SVD"
   ]
  },
  {
   "cell_type": "code",
   "execution_count": 21,
   "id": "88620868",
   "metadata": {},
   "outputs": [],
   "source": [
    "data = pd.read_csv('./Data/data.csv')"
   ]
  },
  {
   "cell_type": "code",
   "execution_count": 23,
   "id": "66f508fc",
   "metadata": {},
   "outputs": [],
   "source": [
    "from sklearn.feature_extraction.text import CountVectorizer\n",
    "from sklearn.feature_extraction.text import TfidfTransformer\n",
    "from sklearn.decomposition import TruncatedSVD"
   ]
  },
  {
   "cell_type": "code",
   "execution_count": 24,
   "id": "38f6e04a",
   "metadata": {},
   "outputs": [
    {
     "name": "stdout",
     "output_type": "stream",
     "text": [
      "(254606, 63889)\n"
     ]
    }
   ],
   "source": [
    "# tfidf\n",
    "titles = data['title_cleaned']\n",
    "count_vect = CountVectorizer()\n",
    "tfidf_transformer = TfidfTransformer()\n",
    "\n",
    "titles_count = count_vect.fit_transform(titles)\n",
    "titles_tfidf = tfidf_transformer.fit_transform(titles_count)\n",
    "print(titles_tfidf.shape)"
   ]
  },
  {
   "cell_type": "code",
   "execution_count": 25,
   "id": "638a8615",
   "metadata": {},
   "outputs": [
    {
     "name": "stdout",
     "output_type": "stream",
     "text": [
      "(254606, 300)\n"
     ]
    }
   ],
   "source": [
    "# SVD dimension reduction - lsa\n",
    "svd = TruncatedSVD(n_components=300, random_state=42)\n",
    "title_tfidf_reduce = svd.fit_transform(titles_tfidf)\n",
    "print(title_tfidf_reduce.shape)"
   ]
  },
  {
   "cell_type": "code",
   "execution_count": 21,
   "id": "88d1e532",
   "metadata": {},
   "outputs": [],
   "source": [
    "np.save(\"./Embed/tfidf_svd300.npy\",title_tfidf_reduce)"
   ]
  },
  {
   "cell_type": "markdown",
   "id": "648e5f76",
   "metadata": {},
   "source": [
    "##### Pretrained Word2vec / Fastext\n",
    "\n",
    "- using https://github.com/mmihaltz/word2vec-GoogleNews-vectors\n",
    "- fasttext "
   ]
  },
  {
   "cell_type": "code",
   "execution_count": 22,
   "id": "84ef8af8",
   "metadata": {},
   "outputs": [],
   "source": [
    "import sister\n",
    "from sister import word_embedders"
   ]
  },
  {
   "cell_type": "code",
   "execution_count": 23,
   "id": "9b76eacd",
   "metadata": {},
   "outputs": [
    {
     "name": "stdout",
     "output_type": "stream",
     "text": [
      "Loading model...\n",
      "(254606, 300)\n"
     ]
    }
   ],
   "source": [
    "# word2vec\n",
    "word2vec = word_embedders.Word2VecEmbedding()\n",
    "sentence_embedding = sister.MeanEmbedding(lang=\"en\", word_embedder= word2vec)\n",
    "\n",
    "titles = data['title_cleaned']\n",
    "\n",
    "title_w2v = []\n",
    "for title in list(titles.values):\n",
    "    if(title != ''):\n",
    "        vector = sentence_embedding(title)\n",
    "        title_w2v.append(vector)\n",
    "    else:\n",
    "        title_w2v.append(np.zeros(300))\n",
    "\n",
    "title_w2v = np.stack(title_w2v, axis=0)\n",
    "print(title_w2v.shape)"
   ]
  },
  {
   "cell_type": "code",
   "execution_count": 24,
   "id": "55851893",
   "metadata": {},
   "outputs": [],
   "source": [
    "np.save(\"./Embed/pretrained_w2v300.npy\",title_w2v)"
   ]
  },
  {
   "cell_type": "code",
   "execution_count": 26,
   "id": "5794ba31",
   "metadata": {},
   "outputs": [
    {
     "name": "stdout",
     "output_type": "stream",
     "text": [
      "Loading model...\n"
     ]
    },
    {
     "name": "stderr",
     "output_type": "stream",
     "text": [
      "Warning : `load_model` does not return WordVectorModel or SupervisedModel any more, but a `FastText` object which is very similar.\n"
     ]
    },
    {
     "name": "stdout",
     "output_type": "stream",
     "text": [
      "(254606, 300)\n"
     ]
    }
   ],
   "source": [
    "# fasttext\n",
    "fasttext = word_embedders.FasttextEmbedding()\n",
    "sentence_embedding = sister.MeanEmbedding(lang=\"en\", word_embedder=fasttext)\n",
    "\n",
    "titles = data['title_cleaned']\n",
    "\n",
    "title_fastext = []\n",
    "for title in list(titles.values):\n",
    "    if(title != ''):\n",
    "        vector = sentence_embedding(title)\n",
    "        title_fastext.append(vector)\n",
    "    else:\n",
    "        title_fastext.append(np.zeros(300))\n",
    "\n",
    "title_fastext = np.stack(title_fastext, axis=0)\n",
    "print(title_fastext.shape)"
   ]
  },
  {
   "cell_type": "code",
   "execution_count": 27,
   "id": "20a0c641",
   "metadata": {},
   "outputs": [],
   "source": [
    "np.save(\"./Embed/fasttext300.npy\",title_fastext)"
   ]
  },
  {
   "cell_type": "markdown",
   "id": "dc46a299",
   "metadata": {},
   "source": [
    "#### Pretrained Bert"
   ]
  },
  {
   "cell_type": "code",
   "execution_count": 5,
   "id": "cd6378e5",
   "metadata": {
    "scrolled": false
   },
   "outputs": [],
   "source": [
    "from sentence_transformers import SentenceTransformer\n",
    "sbert_model = SentenceTransformer('bert-base-nli-mean-tokens')"
   ]
  },
  {
   "cell_type": "code",
   "execution_count": 29,
   "id": "3e8a635f",
   "metadata": {},
   "outputs": [
    {
     "name": "stdout",
     "output_type": "stream",
     "text": [
      "(254606, 768)\n"
     ]
    }
   ],
   "source": [
    "sentences = data['title_cleaned']\n",
    "sentence_embeddings = sbert_model.encode(sentences)\n",
    "print(sentence_embeddings.shape)"
   ]
  },
  {
   "cell_type": "code",
   "execution_count": 30,
   "id": "04365a9e",
   "metadata": {},
   "outputs": [],
   "source": [
    "np.save(\"./Embed/pretrained_sbert300.npy\",sentence_embeddings)"
   ]
  },
  {
   "cell_type": "markdown",
   "id": "1112c2cd",
   "metadata": {},
   "source": [
    "#### Training Emebedding From Data\n",
    "- Fasttext, word2vec, doc2vec etc."
   ]
  },
  {
   "cell_type": "code",
   "execution_count": 57,
   "id": "cd06c477",
   "metadata": {},
   "outputs": [
    {
     "data": {
      "text/plain": [
       "54753"
      ]
     },
     "execution_count": 57,
     "metadata": {},
     "output_type": "execute_result"
    }
   ],
   "source": [
    "len(data['author_code'].unique())"
   ]
  },
  {
   "cell_type": "markdown",
   "id": "07dfa7d5",
   "metadata": {},
   "source": [
    "##### Word2vec, fasttext"
   ]
  },
  {
   "cell_type": "code",
   "execution_count": 74,
   "id": "9590c5cb",
   "metadata": {},
   "outputs": [],
   "source": [
    "from gensim.models import Word2Vec, FastText\n",
    "from utils import mean_sentence_embedding"
   ]
  },
  {
   "cell_type": "code",
   "execution_count": 92,
   "id": "cf99a1e8",
   "metadata": {},
   "outputs": [
    {
     "name": "stdout",
     "output_type": "stream",
     "text": [
      "(254606, 300)\n"
     ]
    }
   ],
   "source": [
    "titles = list(data['title_cleaned'].values)\n",
    "titles_list = [title.split() for title in titles]\n",
    "\n",
    "# word2vec\n",
    "model_w2v = Word2Vec(sentences=titles_list,size = 100, window=5, min_count=1, workers = 4)\n",
    "title_w2v_ft = mean_sentence_embedding(titles_list, model_w2v)\n",
    "print(title_w2v_ft.shape)"
   ]
  },
  {
   "cell_type": "code",
   "execution_count": 86,
   "id": "0986f1f8",
   "metadata": {},
   "outputs": [
    {
     "name": "stdout",
     "output_type": "stream",
     "text": [
      "(254606, 300)\n"
     ]
    }
   ],
   "source": [
    "#fasttext\n",
    "model_ft = FastText(sentences=titles_list, size=300, window=5, min_count=1,workers = 4)\n",
    "#get sentence embedding using mean stack\n",
    "title_fastext_ft = mean_sentence_embedding(titles_list, model_ft)\n",
    "print(title_fastext_ft.shape)"
   ]
  },
  {
   "cell_type": "markdown",
   "id": "96c867a9",
   "metadata": {},
   "source": [
    "##### Doc2Vec"
   ]
  },
  {
   "cell_type": "code",
   "execution_count": null,
   "id": "ffe47519",
   "metadata": {},
   "outputs": [],
   "source": [
    "from gensim.models.doc2vec import Doc2Vec, TaggedDocument"
   ]
  },
  {
   "cell_type": "code",
   "execution_count": 109,
   "id": "746f4aeb",
   "metadata": {},
   "outputs": [
    {
     "name": "stdout",
     "output_type": "stream",
     "text": [
      "254606\n"
     ]
    }
   ],
   "source": [
    "tagged_data = [TaggedDocument(d, [i]) for i, d in enumerate(titles_list)]\n",
    "print(len(tagged_data))\n",
    "model = Doc2Vec(tagged_data, vector_size = 300, window = 2, min_count = 1, epochs = 5)\n",
    "title_d2v = np.stack([model.infer_vector(title) for title in titles_list],axis = 0)"
   ]
  },
  {
   "cell_type": "markdown",
   "id": "8ec19625",
   "metadata": {},
   "source": [
    "#### Title Encoding for deep learning"
   ]
  },
  {
   "cell_type": "code",
   "execution_count": 2,
   "id": "f4a0b702",
   "metadata": {},
   "outputs": [],
   "source": [
    "data = pd.read_csv('./Data/data.csv')"
   ]
  },
  {
   "cell_type": "markdown",
   "id": "cb00fbf9",
   "metadata": {},
   "source": [
    "### Prediction Task - Predict number of upvotes\n",
    "\n",
    "We use ML/DL model to predict number of upvotes for each post\n",
    "\n",
    "- **Target** - log number of upvotes or box-cox transformation of number of upvotes\n",
    "- **Evaluation Metrics:**\n",
    "    - MAE (Mean Absolute Error)\n",
    "    - SRC (Spearman Rho Correlation)"
   ]
  },
  {
   "cell_type": "code",
   "execution_count": 26,
   "id": "bc25e02d",
   "metadata": {},
   "outputs": [],
   "source": [
    "data = pd.read_csv('./Data/data.csv')\n",
    "title_bert = np.load('./Embed/pretrained_sbert300.npy')\n",
    "title_tfidf_svd = np.load('./Embed/tfidf_svd300.npy')\n",
    "title_w2v = np.load('./Embed/pretrained_w2v300.npy')\n",
    "title_fastext = np.load('./Embed/fasttext300.npy')"
   ]
  },
  {
   "cell_type": "markdown",
   "id": "d0c6701d",
   "metadata": {},
   "source": [
    "#### Split Train test Dataset"
   ]
  },
  {
   "cell_type": "code",
   "execution_count": 27,
   "id": "226b2505",
   "metadata": {},
   "outputs": [],
   "source": [
    "from sklearn.model_selection import train_test_split"
   ]
  },
  {
   "cell_type": "code",
   "execution_count": 28,
   "id": "d3c0b218",
   "metadata": {},
   "outputs": [],
   "source": [
    "def split_train_test(X, y, ravel=False):\n",
    "    if ravel == True:\n",
    "        y = y.reshape(-1, 1)\n",
    "\n",
    "    X_train, X_test, y_train, y_test = train_test_split(X, y, test_size=0.15, random_state=21)\n",
    "    X_train, X_val, y_train, y_val = train_test_split(X_train, y_train, test_size=0.15, random_state=21)\n",
    "\n",
    "    print('The size of X_train is:', X_train.shape, '\\nThe size of y_train is:', y_train.shape,\n",
    "          '\\nThe size of X_val is:', X_val.shape, '\\nThe size of y_val is:', y_val.shape,\n",
    "          '\\nThe size of X_test is:', X_test.shape, '\\nThe size of y_test is:', y_test.shape)\n",
    "\n",
    "    return X_train, X_val, X_test, y_train, y_val, y_test"
   ]
  },
  {
   "cell_type": "markdown",
   "id": "de205e33",
   "metadata": {},
   "source": [
    "#### Evaluation"
   ]
  },
  {
   "cell_type": "code",
   "execution_count": 29,
   "id": "a709d2d0",
   "metadata": {},
   "outputs": [],
   "source": [
    "from scipy import stats\n",
    "from sklearn.metrics import mean_absolute_error, mean_squared_error, r2_score\n",
    "\n",
    "def evaluation(y_true, y_pred):\n",
    "    rho, _ = stats.spearmanr(y_true, y_pred)\n",
    "    print(\"=====================================\")\n",
    "    print(\"Result:\")\n",
    "    print(\"Spearman Rho: {}\".format(rho))\n",
    "    print(\"MAE: {:.4f}\".format(mean_absolute_error(y_true, y_pred)))\n",
    "    print(\"RMSE: {:.4f}\".format(mean_squared_error(y_true, y_pred)))"
   ]
  },
  {
   "cell_type": "markdown",
   "id": "80dfa1c5",
   "metadata": {},
   "source": [
    "#### Baseline Model - CatBoost + TFIDF+SVD"
   ]
  },
  {
   "cell_type": "code",
   "execution_count": 33,
   "id": "34cc1bdb",
   "metadata": {},
   "outputs": [],
   "source": [
    "from sklearn import linear_model\n",
    "from catboost import Pool, CatBoostRegressor"
   ]
  },
  {
   "cell_type": "code",
   "execution_count": 49,
   "id": "ac0b2acc",
   "metadata": {},
   "outputs": [],
   "source": [
    "data[feature_cols] = data[feature_cols].astype(int)"
   ]
  },
  {
   "cell_type": "code",
   "execution_count": 54,
   "id": "5e756ccd",
   "metadata": {},
   "outputs": [
    {
     "name": "stdout",
     "output_type": "stream",
     "text": [
      "The size of X_train is: (183952, 311) \n",
      "The size of y_train is: (183952,) \n",
      "The size of X_val is: (32463, 311) \n",
      "The size of y_val is: (32463,) \n",
      "The size of X_test is: (38191, 311) \n",
      "The size of y_test is: (38191,)\n"
     ]
    }
   ],
   "source": [
    "feature_cols = ['year_code', 'month', 'day', 'hour', 'week', 'weekday', 'dayofyear',  'over_18', 'author_code', 'title_len', 'title_num_char']\n",
    "cat_features = [0,1,2,3,7,8]\n",
    "target = 'log_up_votes'\n",
    "\n",
    "#X = data[feature_cols].values\n",
    "X = pd.concat([data[feature_cols], pd.DataFrame(title_tfidf_svd)], axis = 1)\n",
    "y = data[target].values\n",
    "\n",
    "X_train, X_val, X_test, y_train, y_val, y_test = split_train_test(X, y)"
   ]
  },
  {
   "cell_type": "code",
   "execution_count": 55,
   "id": "733966f7",
   "metadata": {},
   "outputs": [
    {
     "name": "stdout",
     "output_type": "stream",
     "text": [
      "0:\tlearn: 1.8284565\ttest: 1.8526394\tbest: 1.8526394 (0)\ttotal: 59.2ms\tremaining: 1m 58s\n",
      "100:\tlearn: 1.7834044\ttest: 1.8028749\tbest: 1.8028749 (100)\ttotal: 3.05s\tremaining: 57.3s\n",
      "200:\tlearn: 1.7697159\ttest: 1.7864245\tbest: 1.7864245 (200)\ttotal: 5.94s\tremaining: 53.2s\n",
      "300:\tlearn: 1.7604915\ttest: 1.7743099\tbest: 1.7743099 (300)\ttotal: 8.94s\tremaining: 50.5s\n",
      "400:\tlearn: 1.7549459\ttest: 1.7669659\tbest: 1.7669659 (400)\ttotal: 11.9s\tremaining: 47.7s\n",
      "500:\tlearn: 1.7502290\ttest: 1.7614795\tbest: 1.7614795 (500)\ttotal: 14.9s\tremaining: 44.6s\n",
      "600:\tlearn: 1.7481505\ttest: 1.7597936\tbest: 1.7597936 (600)\ttotal: 17.9s\tremaining: 41.7s\n",
      "700:\tlearn: 1.7475517\ttest: 1.7593818\tbest: 1.7593812 (699)\ttotal: 20.9s\tremaining: 38.7s\n",
      "800:\tlearn: 1.7474571\ttest: 1.7593271\tbest: 1.7593212 (763)\ttotal: 23.8s\tremaining: 35.7s\n",
      "900:\tlearn: 1.7473881\ttest: 1.7593057\tbest: 1.7592998 (871)\ttotal: 26.8s\tremaining: 32.7s\n",
      "1000:\tlearn: 1.7473798\ttest: 1.7593078\tbest: 1.7592998 (871)\ttotal: 29.7s\tremaining: 29.7s\n",
      "bestTest = 1.759299779\n",
      "bestIteration = 871\n",
      "Shrink model to first 872 iterations.\n",
      "=====================================\n",
      "Result:\n",
      "Spearman Rho: 0.29490601596125293\n",
      "MAE: 1.2868\n",
      "RMSE: 2.9703\n"
     ]
    }
   ],
   "source": [
    "# catboost\n",
    "train_pool = Pool(X_train, y_train, cat_features=cat_features)\n",
    "val_pool = Pool(X_val, y_val, cat_features=cat_features)\n",
    "test_pool = Pool(X_test, cat_features=cat_features) \n",
    "\n",
    "#reg = linear_model.Lasso(alpha=0.1)\n",
    "#reg = SVR(kernel='poly', C=100, gamma='auto', degree=3, epsilon=.1, coef0=1)\n",
    "\n",
    "model = CatBoostRegressor(\n",
    "                        iterations=2000,\n",
    "                        learning_rate=0.03,\n",
    "                        max_depth = 6,\n",
    "                        verbose = 100,\n",
    "                        loss_function='RMSE',\n",
    "                        eval_metric = 'RMSE',\n",
    "                        task_type=\"GPU\",\n",
    "                        devices='0:1',\n",
    "                        early_stopping_rounds = 200)\n",
    "#train the model\n",
    "model.fit(train_pool, eval_set = val_pool, use_best_model = True)\n",
    "# make the prediction using the resulting model\n",
    "y_pred = model.predict(test_pool)\n",
    "\n",
    "evaluation(y_test, y_pred)"
   ]
  },
  {
   "cell_type": "markdown",
   "id": "3616380b",
   "metadata": {},
   "source": [
    "#### Model2 - CatBoost + Pretained Word2Vec/Fasttext/Bert\n",
    "- Bert improves performance a lot\n",
    "- word2vec fastext slightly improve from TFIDF_SVD"
   ]
  },
  {
   "cell_type": "code",
   "execution_count": 56,
   "id": "f4a3e057",
   "metadata": {},
   "outputs": [
    {
     "name": "stdout",
     "output_type": "stream",
     "text": [
      "The size of X_train is: (183952, 311) \n",
      "The size of y_train is: (183952,) \n",
      "The size of X_val is: (32463, 311) \n",
      "The size of y_val is: (32463,) \n",
      "The size of X_test is: (38191, 311) \n",
      "The size of y_test is: (38191,)\n"
     ]
    }
   ],
   "source": [
    "feature_cols = ['year_code', 'month', 'day', 'hour', 'week', 'weekday', 'dayofyear',  'over_18', 'author_code', 'title_len', 'title_num_char']\n",
    "cat_features = [0,1,2,3,7,8]\n",
    "target = 'log_up_votes'\n",
    "\n",
    "#X = data[feature_cols].values\n",
    "X = pd.concat([data[feature_cols], pd.DataFrame(title_w2v)], axis = 1)\n",
    "y = data[target].values\n",
    "\n",
    "X_train, X_val, X_test, y_train, y_val, y_test = split_train_test(X, y)"
   ]
  },
  {
   "cell_type": "code",
   "execution_count": 57,
   "id": "2e6fa44e",
   "metadata": {
    "scrolled": false
   },
   "outputs": [
    {
     "name": "stdout",
     "output_type": "stream",
     "text": [
      "0:\tlearn: 1.8285757\ttest: 1.8527067\tbest: 1.8527067 (0)\ttotal: 33ms\tremaining: 1m 6s\n",
      "100:\tlearn: 1.8156808\ttest: 1.8383480\tbest: 1.8383480 (100)\ttotal: 2.98s\tremaining: 56.1s\n",
      "200:\tlearn: 1.8015478\ttest: 1.8219264\tbest: 1.8219264 (200)\ttotal: 5.95s\tremaining: 53.3s\n",
      "300:\tlearn: 1.7872722\ttest: 1.8060337\tbest: 1.8060337 (300)\ttotal: 8.97s\tremaining: 50.7s\n",
      "400:\tlearn: 1.7695190\ttest: 1.7848823\tbest: 1.7848823 (400)\ttotal: 12.1s\tremaining: 48.3s\n",
      "500:\tlearn: 1.7583862\ttest: 1.7714710\tbest: 1.7714710 (500)\ttotal: 15.2s\tremaining: 45.4s\n",
      "600:\tlearn: 1.7530829\ttest: 1.7641025\tbest: 1.7641025 (600)\ttotal: 18.1s\tremaining: 42.2s\n",
      "700:\tlearn: 1.7477472\ttest: 1.7576201\tbest: 1.7576201 (700)\ttotal: 21.2s\tremaining: 39.2s\n",
      "800:\tlearn: 1.7445472\ttest: 1.7538134\tbest: 1.7538134 (800)\ttotal: 24.3s\tremaining: 36.3s\n",
      "900:\tlearn: 1.7419574\ttest: 1.7512704\tbest: 1.7512704 (900)\ttotal: 27.4s\tremaining: 33.4s\n",
      "1000:\tlearn: 1.7402865\ttest: 1.7499353\tbest: 1.7499353 (1000)\ttotal: 30.4s\tremaining: 30.3s\n",
      "1100:\tlearn: 1.7393493\ttest: 1.7492497\tbest: 1.7492497 (1100)\ttotal: 33.4s\tremaining: 27.2s\n",
      "1200:\tlearn: 1.7390616\ttest: 1.7489851\tbest: 1.7489843 (1196)\ttotal: 36.4s\tremaining: 24.2s\n",
      "1300:\tlearn: 1.7390107\ttest: 1.7489777\tbest: 1.7489761 (1267)\ttotal: 39.4s\tremaining: 21.2s\n",
      "1400:\tlearn: 1.7389730\ttest: 1.7489479\tbest: 1.7489470 (1394)\ttotal: 42.4s\tremaining: 18.1s\n",
      "1500:\tlearn: 1.7389632\ttest: 1.7489446\tbest: 1.7489446 (1495)\ttotal: 45.5s\tremaining: 15.1s\n",
      "1600:\tlearn: 1.7389296\ttest: 1.7488978\tbest: 1.7488966 (1582)\ttotal: 48.5s\tremaining: 12.1s\n",
      "1700:\tlearn: 1.7389102\ttest: 1.7488936\tbest: 1.7488932 (1648)\ttotal: 51.5s\tremaining: 9.05s\n",
      "1800:\tlearn: 1.7389085\ttest: 1.7488939\tbest: 1.7488932 (1648)\ttotal: 54.4s\tremaining: 6.01s\n",
      "bestTest = 1.748893239\n",
      "bestIteration = 1648\n",
      "Shrink model to first 1649 iterations.\n",
      "=====================================\n",
      "Result:\n",
      "Spearman Rho: 0.30833931592485053\n",
      "MAE: 1.2793\n",
      "RMSE: 2.9421\n"
     ]
    }
   ],
   "source": [
    "# catboost\n",
    "train_pool = Pool(X_train, y_train, cat_features=cat_features)\n",
    "val_pool = Pool(X_val, y_val, cat_features=cat_features)\n",
    "test_pool = Pool(X_test, cat_features=cat_features) \n",
    "\n",
    "#reg = linear_model.Lasso(alpha=0.1)\n",
    "#reg = SVR(kernel='poly', C=100, gamma='auto', degree=3, epsilon=.1, coef0=1)\n",
    "\n",
    "model = CatBoostRegressor(\n",
    "                        iterations=2000,\n",
    "                        learning_rate=0.03,\n",
    "                        max_depth = 6,\n",
    "                        verbose = 100,\n",
    "                        loss_function='RMSE',\n",
    "                        eval_metric = 'RMSE',\n",
    "                        task_type=\"GPU\",\n",
    "                        devices='0:1',\n",
    "                        early_stopping_rounds = 200)\n",
    "#train the model\n",
    "model.fit(train_pool, eval_set = val_pool, use_best_model = True)\n",
    "# make the prediction using the resulting model\n",
    "y_pred = model.predict(test_pool)\n",
    "\n",
    "evaluation(y_test, y_pred)"
   ]
  },
  {
   "cell_type": "code",
   "execution_count": 58,
   "id": "ffb15efa",
   "metadata": {},
   "outputs": [
    {
     "name": "stdout",
     "output_type": "stream",
     "text": [
      "The size of X_train is: (183952, 779) \n",
      "The size of y_train is: (183952,) \n",
      "The size of X_val is: (32463, 779) \n",
      "The size of y_val is: (32463,) \n",
      "The size of X_test is: (38191, 779) \n",
      "The size of y_test is: (38191,)\n"
     ]
    }
   ],
   "source": [
    "# bert\n",
    "feature_cols = ['year_code', 'month', 'day', 'hour', 'week', 'weekday', 'dayofyear',  'over_18', 'author_code', 'title_len', 'title_num_char']\n",
    "cat_features = [0,1,2,3,7,8]\n",
    "target = 'log_up_votes'\n",
    "\n",
    "#X = data[feature_cols].values\n",
    "X = pd.concat([data[feature_cols], pd.DataFrame(title_bert)], axis = 1)\n",
    "y = data[target].values\n",
    "\n",
    "X_train, X_val, X_test, y_train, y_val, y_test = split_train_test(X, y)"
   ]
  },
  {
   "cell_type": "code",
   "execution_count": 59,
   "id": "7349dbb6",
   "metadata": {},
   "outputs": [
    {
     "name": "stdout",
     "output_type": "stream",
     "text": [
      "0:\tlearn: 1.8285324\ttest: 1.8526857\tbest: 1.8526857 (0)\ttotal: 36.1ms\tremaining: 1m 12s\n",
      "100:\tlearn: 1.8103559\ttest: 1.8331679\tbest: 1.8331679 (100)\ttotal: 3.48s\tremaining: 1m 5s\n",
      "200:\tlearn: 1.7957865\ttest: 1.8169979\tbest: 1.8169979 (200)\ttotal: 7.01s\tremaining: 1m 2s\n",
      "300:\tlearn: 1.7849073\ttest: 1.8049302\tbest: 1.8049302 (300)\ttotal: 10.5s\tremaining: 59.4s\n",
      "400:\tlearn: 1.7716951\ttest: 1.7886812\tbest: 1.7886812 (400)\ttotal: 14.2s\tremaining: 56.6s\n",
      "500:\tlearn: 1.7612472\ttest: 1.7760668\tbest: 1.7760668 (500)\ttotal: 17.8s\tremaining: 53.2s\n",
      "600:\tlearn: 1.7532477\ttest: 1.7666010\tbest: 1.7666010 (600)\ttotal: 21.2s\tremaining: 49.3s\n",
      "700:\tlearn: 1.7464100\ttest: 1.7572275\tbest: 1.7572275 (700)\ttotal: 24.5s\tremaining: 45.4s\n",
      "800:\tlearn: 1.7410931\ttest: 1.7511014\tbest: 1.7511014 (800)\ttotal: 27.9s\tremaining: 41.8s\n",
      "900:\tlearn: 1.7378267\ttest: 1.7476599\tbest: 1.7476599 (900)\ttotal: 31.3s\tremaining: 38.2s\n",
      "1000:\tlearn: 1.7368736\ttest: 1.7470643\tbest: 1.7470503 (980)\ttotal: 34.7s\tremaining: 34.6s\n",
      "1100:\tlearn: 1.7366621\ttest: 1.7469764\tbest: 1.7469651 (1087)\ttotal: 38.1s\tremaining: 31.1s\n",
      "1200:\tlearn: 1.7365894\ttest: 1.7469565\tbest: 1.7469516 (1187)\ttotal: 41.4s\tremaining: 27.6s\n",
      "1300:\tlearn: 1.7363784\ttest: 1.7467608\tbest: 1.7467608 (1300)\ttotal: 44.8s\tremaining: 24.1s\n",
      "1400:\tlearn: 1.7363355\ttest: 1.7467442\tbest: 1.7467340 (1328)\ttotal: 48.1s\tremaining: 20.6s\n",
      "1500:\tlearn: 1.7363051\ttest: 1.7467283\tbest: 1.7467254 (1462)\ttotal: 51.5s\tremaining: 17.1s\n",
      "1600:\tlearn: 1.7362765\ttest: 1.7467120\tbest: 1.7467089 (1538)\ttotal: 54.8s\tremaining: 13.7s\n",
      "1700:\tlearn: 1.7362556\ttest: 1.7467325\tbest: 1.7467089 (1538)\ttotal: 58.2s\tremaining: 10.2s\n",
      "bestTest = 1.74670889\n",
      "bestIteration = 1538\n",
      "Shrink model to first 1539 iterations.\n",
      "=====================================\n",
      "Result:\n",
      "Spearman Rho: 0.31540808592113995\n",
      "MAE: 1.2790\n",
      "RMSE: 2.9313\n"
     ]
    }
   ],
   "source": [
    "# catboost\n",
    "train_pool = Pool(X_train, y_train, cat_features=cat_features)\n",
    "val_pool = Pool(X_val, y_val, cat_features=cat_features)\n",
    "test_pool = Pool(X_test, cat_features=cat_features) \n",
    "\n",
    "#reg = linear_model.Lasso(alpha=0.1)\n",
    "#reg = SVR(kernel='poly', C=100, gamma='auto', degree=3, epsilon=.1, coef0=1)\n",
    "\n",
    "model = CatBoostRegressor(\n",
    "                        iterations=2000,\n",
    "                        learning_rate=0.03,\n",
    "                        max_depth = 6,\n",
    "                        verbose = 100,\n",
    "                        loss_function='RMSE',\n",
    "                        eval_metric = 'RMSE',\n",
    "                        task_type=\"GPU\",\n",
    "                        devices='0:1',\n",
    "                        early_stopping_rounds = 200)\n",
    "#train the model\n",
    "model.fit(train_pool, eval_set = val_pool, use_best_model = True)\n",
    "# make the prediction using the resulting model\n",
    "y_pred = model.predict(test_pool)\n",
    "\n",
    "evaluation(y_test, y_pred)"
   ]
  },
  {
   "cell_type": "markdown",
   "id": "af222439",
   "metadata": {},
   "source": [
    "#### Model3 Catboost + w2v/fasttext/doc2vec trained from our data\n",
    "- We can see the performance is similar to pretrained w2v or fasttext, it is becasue our corpus is news similar to pretrained w2v using google news"
   ]
  },
  {
   "cell_type": "markdown",
   "id": "8bece96f",
   "metadata": {},
   "source": [
    "#### Model4 Catboost + stack pretrained bert + w2v + tfidf_svd\n",
    "- we can see the performance increase a little compare to only using bert"
   ]
  },
  {
   "cell_type": "code",
   "execution_count": 27,
   "id": "69d2aef2",
   "metadata": {},
   "outputs": [
    {
     "name": "stdout",
     "output_type": "stream",
     "text": [
      "The size of X_train is: (183952, 1379) \n",
      "The size of y_train is: (183952,) \n",
      "The size of X_val is: (32463, 1379) \n",
      "The size of y_val is: (32463,) \n",
      "The size of X_test is: (38191, 1379) \n",
      "The size of y_test is: (38191,)\n"
     ]
    }
   ],
   "source": [
    "# titles = list(data['title_cleaned'].values)\n",
    "# titles_list = [title.split() for title in titles]\n",
    "\n",
    "# # word2vec\n",
    "# dim = 300\n",
    "# model_w2v = Word2Vec(sentences=titles_list, size = dim, window=20, min_count=100,  iter=5)\n",
    "# title_w2v_ft = mean_sentence_embedding(titles_list, model_w2v, dim = dim)\n",
    "# print(title_w2v_ft.shape)\n",
    "\n",
    "feature_cols = ['year_code', 'month', 'day', 'hour', 'week', 'weekday', 'dayofyear',  'over_18', 'author_code', 'title_len', 'title_num_char']\n",
    "cat_features = [0,1,2,3,7,8]\n",
    "target = 'log_up_votes'\n",
    "\n",
    "#X = data[feature_cols].values\n",
    "X = pd.concat([data[feature_cols], pd.DataFrame(np.concatenate([title_bert,title_w2v, title_tfidf_svd], axis =1))], axis = 1)\n",
    "y = data[target].values\n",
    "\n",
    "X_train, X_val, X_test, y_train, y_val, y_test = split_train_test(X, y)"
   ]
  },
  {
   "cell_type": "code",
   "execution_count": 28,
   "id": "9e84366e",
   "metadata": {},
   "outputs": [
    {
     "name": "stdout",
     "output_type": "stream",
     "text": [
      "0:\tlearn: 1.8285775\ttest: 1.8527115\tbest: 1.8527115 (0)\ttotal: 84.1ms\tremaining: 2m 48s\n",
      "100:\tlearn: 1.8114327\ttest: 1.8341856\tbest: 1.8341856 (100)\ttotal: 3.86s\tremaining: 1m 12s\n",
      "200:\tlearn: 1.7988627\ttest: 1.8202312\tbest: 1.8202312 (200)\ttotal: 7.58s\tremaining: 1m 7s\n",
      "300:\tlearn: 1.7898018\ttest: 1.8101213\tbest: 1.8101213 (300)\ttotal: 11.3s\tremaining: 1m 3s\n",
      "400:\tlearn: 1.7801886\ttest: 1.7995629\tbest: 1.7995629 (400)\ttotal: 15.2s\tremaining: 1m\n",
      "500:\tlearn: 1.7657421\ttest: 1.7816762\tbest: 1.7816762 (500)\ttotal: 19s\tremaining: 56.8s\n",
      "600:\tlearn: 1.7558286\ttest: 1.7708589\tbest: 1.7708589 (600)\ttotal: 23.1s\tremaining: 53.8s\n",
      "700:\tlearn: 1.7489892\ttest: 1.7629750\tbest: 1.7629750 (700)\ttotal: 27.1s\tremaining: 50.3s\n",
      "800:\tlearn: 1.7428271\ttest: 1.7547900\tbest: 1.7547900 (800)\ttotal: 31.2s\tremaining: 46.7s\n",
      "900:\tlearn: 1.7377882\ttest: 1.7485621\tbest: 1.7485621 (900)\ttotal: 35.3s\tremaining: 43s\n",
      "1000:\tlearn: 1.7337297\ttest: 1.7435811\tbest: 1.7435811 (1000)\ttotal: 39.4s\tremaining: 39.3s\n",
      "1100:\tlearn: 1.7307523\ttest: 1.7402884\tbest: 1.7402884 (1100)\ttotal: 43.5s\tremaining: 35.5s\n",
      "1200:\tlearn: 1.7293596\ttest: 1.7389437\tbest: 1.7389437 (1200)\ttotal: 47.6s\tremaining: 31.6s\n",
      "1300:\tlearn: 1.7283734\ttest: 1.7380018\tbest: 1.7380018 (1300)\ttotal: 51.8s\tremaining: 27.8s\n",
      "1400:\tlearn: 1.7268187\ttest: 1.7365958\tbest: 1.7365958 (1400)\ttotal: 55.9s\tremaining: 23.9s\n",
      "1500:\tlearn: 1.7255430\ttest: 1.7355871\tbest: 1.7355871 (1500)\ttotal: 1m\tremaining: 20s\n",
      "1600:\tlearn: 1.7244611\ttest: 1.7348051\tbest: 1.7348051 (1600)\ttotal: 1m 4s\tremaining: 16s\n",
      "1700:\tlearn: 1.7241357\ttest: 1.7345522\tbest: 1.7345522 (1700)\ttotal: 1m 8s\tremaining: 12s\n",
      "1800:\tlearn: 1.7239743\ttest: 1.7344611\tbest: 1.7344573 (1792)\ttotal: 1m 12s\tremaining: 8.03s\n",
      "1900:\tlearn: 1.7239066\ttest: 1.7344401\tbest: 1.7344330 (1867)\ttotal: 1m 16s\tremaining: 4.01s\n",
      "1999:\tlearn: 1.7238844\ttest: 1.7344309\tbest: 1.7344283 (1937)\ttotal: 1m 21s\tremaining: 0us\n",
      "bestTest = 1.734428319\n",
      "bestIteration = 1937\n",
      "Shrink model to first 1938 iterations.\n",
      "=====================================\n",
      "Result:\n",
      "Spearman Rho: 0.329800096980007\n",
      "MAE: 1.2706\n",
      "RMSE: 2.8954\n"
     ]
    }
   ],
   "source": [
    "# catboost\n",
    "train_pool = Pool(X_train, y_train, cat_features=cat_features)\n",
    "val_pool = Pool(X_val, y_val, cat_features=cat_features)\n",
    "test_pool = Pool(X_test, cat_features=cat_features) \n",
    "\n",
    "#reg = linear_model.Lasso(alpha=0.1)\n",
    "#reg = SVR(kernel='poly', C=100, gamma='auto', degree=3, epsilon=.1, coef0=1)\n",
    "\n",
    "model = CatBoostRegressor(\n",
    "                        iterations=2000,\n",
    "                        learning_rate=0.03,\n",
    "                        max_depth = 6,\n",
    "                        verbose = 100,\n",
    "                        loss_function='RMSE',\n",
    "                        eval_metric = 'RMSE',\n",
    "                        task_type=\"GPU\",\n",
    "                        devices='0:1',\n",
    "                        early_stopping_rounds = 200)\n",
    "#train the model\n",
    "model.fit(train_pool, eval_set = val_pool, use_best_model = True)\n",
    "# make the prediction using the resulting model\n",
    "y_pred = model.predict(test_pool)\n",
    "\n",
    "evaluation(y_test, y_pred)"
   ]
  },
  {
   "cell_type": "markdown",
   "id": "97f9ced3",
   "metadata": {},
   "source": [
    "#### Model5 LSTM + pooling + Features Fusing using Fully Connect Layer\n",
    "- Only use word embedding is not enough, since generated embedding is not related to our task, we can need to use deep learning to train a end-to-end model\n",
    "- We use LSTM or CNN to encode the text data, then use a fully connected layer to incorporate all addtional features (time, authors etc.)\n",
    "- we call it LSTM-FUSI implemented in pytorch which can be found in model folder"
   ]
  },
  {
   "cell_type": "markdown",
   "id": "e714b30d",
   "metadata": {},
   "source": [
    "![title](./LSTM_FUSI.png)"
   ]
  },
  {
   "cell_type": "code",
   "execution_count": 4,
   "id": "41cb7917",
   "metadata": {},
   "outputs": [
    {
     "name": "stderr",
     "output_type": "stream",
     "text": [
      "WARNING:root:Limited tf.compat.v2.summary API due to missing TensorBoard installation.\n",
      "WARNING:root:Limited tf.compat.v2.summary API due to missing TensorBoard installation.\n",
      "WARNING:root:Limited tf.compat.v2.summary API due to missing TensorBoard installation.\n",
      "WARNING:root:Limited tf.summary API due to missing TensorBoard installation.\n"
     ]
    },
    {
     "name": "stdout",
     "output_type": "stream",
     "text": [
      "INFO:tensorflow:Enabling eager execution\n"
     ]
    },
    {
     "name": "stderr",
     "output_type": "stream",
     "text": [
      "INFO:tensorflow:Enabling eager execution\n"
     ]
    },
    {
     "name": "stdout",
     "output_type": "stream",
     "text": [
      "INFO:tensorflow:Enabling v2 tensorshape\n"
     ]
    },
    {
     "name": "stderr",
     "output_type": "stream",
     "text": [
      "INFO:tensorflow:Enabling v2 tensorshape\n"
     ]
    },
    {
     "name": "stdout",
     "output_type": "stream",
     "text": [
      "INFO:tensorflow:Enabling resource variables\n"
     ]
    },
    {
     "name": "stderr",
     "output_type": "stream",
     "text": [
      "INFO:tensorflow:Enabling resource variables\n"
     ]
    },
    {
     "name": "stdout",
     "output_type": "stream",
     "text": [
      "INFO:tensorflow:Enabling tensor equality\n"
     ]
    },
    {
     "name": "stderr",
     "output_type": "stream",
     "text": [
      "INFO:tensorflow:Enabling tensor equality\n"
     ]
    },
    {
     "name": "stdout",
     "output_type": "stream",
     "text": [
      "INFO:tensorflow:Enabling control flow v2\n"
     ]
    },
    {
     "name": "stderr",
     "output_type": "stream",
     "text": [
      "INFO:tensorflow:Enabling control flow v2\n",
      "WARNING:root:Limited tf.compat.v2.summary API due to missing TensorBoard installation.\n",
      "WARNING:root:Limited tf.compat.v2.summary API due to missing TensorBoard installation.\n",
      "WARNING:root:Limited tf.compat.v2.summary API due to missing TensorBoard installation.\n"
     ]
    },
    {
     "name": "stdout",
     "output_type": "stream",
     "text": [
      "Loading model...\n",
      "True\n",
      "|  1 | loss: 3.441408 | eval: 3.756892 | best: 3.756892 (  1) | time: 2.3e+01\n",
      "|  2 | loss: 3.106427 | eval: 3.559994 | best: 3.559994 (  2) | time: 4.5e+01\n",
      "|  3 | loss: 2.999859 | eval: 3.339452 | best: 3.339452 (  3) | time: 6.6e+01\n",
      "|  4 | loss: 2.915800 | eval: 3.090216 | best: 3.090216 (  4) | time: 8.8e+01\n",
      "|  5 | loss: 2.848433 | eval: 3.023079 | best: 3.023079 (  5) | time: 1.1e+02\n",
      "|  6 | loss: 2.787231 | eval: 2.950731 | best: 2.950731 (  6) | time: 1.3e+02\n",
      "|  7 | loss: 2.705868 | eval: 2.979214 | best: 2.950731 (  6) | time: 1.5e+02\n",
      "|  8 | loss: 2.642440 | eval: 2.952123 | best: 2.950731 (  6) | time: 1.8e+02\n",
      "|  9 | loss: 2.576466 | eval: 2.951921 | best: 2.950731 (  6) | time: 2e+02\n",
      "| 10 | loss: 2.509162 | eval: 3.003692 | best: 2.950731 (  6) | time: 2.2e+02\n",
      "| 11 | loss: 2.425668 | eval: 3.003161 | best: 2.950731 (  6) | time: 2.4e+02\n",
      "| 12 | loss: 2.369326 | eval: 3.016635 | best: 2.950731 (  6) | time: 2.7e+02\n",
      "| 13 | loss: 2.291753 | eval: 3.026750 | best: 2.950731 (  6) | time: 2.9e+02\n",
      "| 14 | loss: 2.225080 | eval: 3.015070 | best: 2.950731 (  6) | time: 3.1e+02\n",
      "| 15 | loss: 2.155367 | eval: 3.077889 | best: 2.950731 (  6) | time: 3.3e+02\n",
      "| 16 | loss: 2.081950 | eval: 3.151290 | best: 2.950731 (  6) | time: 3.5e+02\n",
      "| 17 | loss: 2.030438 | eval: 3.141635 | best: 2.950731 (  6) | time: 3.8e+02\n",
      "=================================\n",
      "=====================================\n",
      "Result:\n",
      "Spearman Rho: 0.3472849727362764\n",
      "MAE: 1.2637\n",
      "RMSE: 2.8523\n"
     ]
    }
   ],
   "source": [
    "from NNRegressor import NNRegressor\n",
    "from Dataloader import encode_titles, Eluvio, split_train_test\n",
    "from torch.utils.data import DataLoader\n",
    "from model import LSTM_FUSI\n",
    "import torch\n",
    "import pandas as pd\n",
    "import random\n",
    "import numpy as np\n",
    "from scipy import stats\n",
    "from sklearn.metrics import mean_absolute_error, mean_squared_error\n",
    "from sklearn.preprocessing import LabelEncoder\n",
    "from utils import load_pretained_embedding\n",
    "\n",
    "torch.manual_seed(0)\n",
    "random.seed(0)\n",
    "np.random.seed(0)\n",
    "\n",
    "data = pd.read_csv('./Data/data.csv')\n",
    "data['month'] = data['month'] - 1\n",
    "data['day'] = data['day'] - 1\n",
    "data['dayofyear'] = data['dayofyear'] -1\n",
    "data['week'] = data['week'] -1\n",
    "\n",
    "# generate pad sequences of titles\n",
    "titles, vocabulary, vocabulary_inv = encode_titles(data['title_cleaned'])\n",
    "weights = load_pretained_embedding(vocabulary_inv, embed_dim=300)\n",
    "\n",
    "# some parameters\n",
    "dense_col = ['over_18', 'title_len', 'title_num_char']\n",
    "num_dense = len(dense_col)\n",
    "labelencoder = LabelEncoder()\n",
    "data['author_code'] = labelencoder.fit_transform(data['author'])\n",
    "data['year_code'] = labelencoder.fit_transform(data['year'])\n",
    "num_author = data['author_code'].nunique()\n",
    "num_year = data['year_code'].nunique()\n",
    "vocab_size = len(vocabulary_inv.keys())\n",
    "\n",
    "# learning params\n",
    "batch_size = 256\n",
    "lr = 0.001\n",
    "\n",
    "data_train, data_val, data_test, titles_train, titles_val, titles_test = \\\n",
    "    split_train_test(data, data['up_votes'], titles)\n",
    "\n",
    "# Data\n",
    "train_data = Eluvio(data_train, titles_train, dense_col=dense_col)\n",
    "validation_data = Eluvio(data_val, titles_val, dense_col=dense_col)\n",
    "test_data = Eluvio(data_test, titles_test, dense_col=dense_col)\n",
    "\n",
    "train_dataloader = DataLoader(train_data, batch_size=batch_size, shuffle=True, num_workers=0)\n",
    "validation_dataloader = DataLoader(validation_data, batch_size=batch_size, shuffle=False, num_workers=0)\n",
    "test_dataloader = DataLoader(test_data, batch_size=batch_size, shuffle=False, num_workers=0)\n",
    "\n",
    "# Model\n",
    "model = LSTM_FUSI.LSTM_FUSI(vocab_size=vocab_size,\n",
    "                            author_size=num_author,\n",
    "                            batch_size=batch_size,\n",
    "                            n_dense_features=num_dense,\n",
    "                            num_year=num_year,\n",
    "                            weights=weights)\n",
    "\n",
    "print(torch.cuda.is_available())\n",
    "model = model.cuda()\n",
    "\n",
    "# Regressor\n",
    "feature_list = ['year', 'hour', 'month', 'day', 'weekday', 'n_day', 'n_week']\n",
    "reg = NNRegressor(model, feature_list, lr=lr)\n",
    "reg.fit(train_dataloader, eval_set=validation_dataloader)\n",
    "\n",
    "print(\"=================================\")\n",
    "y_pred = reg.predict(test_dataloader)\n",
    "y_test = data_test['log_up_votes'].values.reshape(-1, 1)\n",
    "evaluation(y_pred, y_test)"
   ]
  },
  {
   "cell_type": "markdown",
   "id": "b2575597",
   "metadata": {},
   "source": [
    "#### Model6 Fine Tuned Bert\n",
    "- Transformer is a powerful encoder than CNN and LSTM, so we fine tuned the transformer for this task with incoporated addtional information\n",
    "- Due to time limit, I have not test this model but will do in the future"
   ]
  },
  {
   "cell_type": "markdown",
   "id": "79b2e8b8",
   "metadata": {},
   "source": [
    "### Summary"
   ]
  },
  {
   "cell_type": "markdown",
   "id": "da3a5925",
   "metadata": {},
   "source": [
    "- **I use ML/DL to predict log up votes based on time, title, author features**\n",
    "- **I tried multiple way to encoding text including**\n",
    "    - TFIDF + SVD\n",
    "    - Word2Vec\n",
    "    - Fasttext\n",
    "    - Doc2Vect\n",
    "    - Bert\n",
    "- **I applied 5 models**\n",
    "    - First 4 model is based on using Catboost + different text encoder\n",
    "        - the result shows Bert encoder outperform all others\n",
    "        - I also tried stack Bert, w2v, fastext and tfidf + svd, the performance improved a little\n",
    "    - 5th model is using **LSTM to encode text + time/author/features embedding + fully connected layer** fusing all information to train a **end-2-end** model\n",
    "        - the result shows **it outperfoms the best model using Catboost + stack of Bert w2c fastest tfidf**. Since Bert is the sota model for text encoding, I believe if I change LSTM to Transformer to make an end-2-end model the result will be further improved.\n",
    "- **The result shows**\n",
    "    - mean absolute error around 1.26\n",
    "    - mean square error around 2.85"
   ]
  },
  {
   "cell_type": "code",
   "execution_count": null,
   "id": "c2d14f06",
   "metadata": {},
   "outputs": [],
   "source": []
  },
  {
   "cell_type": "code",
   "execution_count": null,
   "id": "04efb0be",
   "metadata": {},
   "outputs": [],
   "source": []
  },
  {
   "cell_type": "code",
   "execution_count": null,
   "id": "5c9576e7",
   "metadata": {},
   "outputs": [],
   "source": []
  },
  {
   "cell_type": "code",
   "execution_count": null,
   "id": "c18e09fd",
   "metadata": {},
   "outputs": [],
   "source": []
  }
 ],
 "metadata": {
  "kernelspec": {
   "display_name": "Python 3",
   "language": "python",
   "name": "python3"
  },
  "language_info": {
   "codemirror_mode": {
    "name": "ipython",
    "version": 3
   },
   "file_extension": ".py",
   "mimetype": "text/x-python",
   "name": "python",
   "nbconvert_exporter": "python",
   "pygments_lexer": "ipython3",
   "version": "3.9.2"
  }
 },
 "nbformat": 4,
 "nbformat_minor": 5
}
